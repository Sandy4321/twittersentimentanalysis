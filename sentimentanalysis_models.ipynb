{
 "cells": [
  {
   "cell_type": "markdown",
   "metadata": {},
   "source": [
    "#Sentiment Analysis of tweets during an NBA playoff game\n",
    "Github: https://github.com/deepnadevkar/twittersentimentanalysis <p>\n",
    "Blog: http://www.deepnadevkar.com/blogs/post/Twitter-Sentiment-Analysis-of-Rockets%C2%A0during-an-NBA-playoff-game/ <p>\n",
    "<p>\n",
    "\n",
    "We live in a world of social media and big data, where a huge amount of data is available to us that cannot be analyzed manually. Businesses are really interested in capturing a general emotional trend or attitude about their products, watch how it changes over time, and understand how it relates to their competitors. There is a huge push in the field of data science to come up with better tools for sentiment analysis. I had never worked with textual data before and the field of NLP is really exciting to me! I thought that it would be really interesting to do a basic sentiment analysis about a popular event that is happening in real-time!During the time that I was thinking about this, it was NBA playoffs season and there was a timely game coming up -- Rockets vs Warriors (Game 2; the Rockets lost :-(). I thought it would be awesome to collect information expressed through a big social media platform while the game is happening and then analyze how the sentiment of avid sports fans changed throughout the game. "
   ]
  },
  {
   "cell_type": "markdown",
   "metadata": {},
   "source": [
    "###[I. Collect data during the game](https://github.com/deepnadevkar/twittersentimentanalysis/blob/master/tweetstreaming.py)\n",
    "- Access the Twitter Streaming API\n",
    "- Collect live tweets with keyword \"rockets\" and store them into a mongodb database\n",
    "- Used Robomongo (a GUI for mongodb) to watch incoming tweets \n",
    "- Export database as a .json file\n",
    "<img src=\"tweetstreamingscript.png\">\n",
    "\n",
    "###[II. Read, Clean and Preprocess Data](https://github.com/deepnadevkar/twittersentimentanalysis/blob/master/readandclean_rockets.ipynb)  \n",
    "\n",
    "###[III. Data Visualizations](https://github.com/deepnadevkar/twittersentimentanalysis/blob/master/rockets_basicanalysis.ipynb)\n",
    "\n",
    "<a id= 'top'></a>\n",
    "###[IV. Sentiment Analysis](#4)\n",
    "- [Movie Reviews Corpus](#4-1)\n",
    "- [Training and Testing Twitter Sentiment Corpus](#4-2)\n",
    "    - [<font color='green'>Random Forests</font>](#4-2-1)\n",
    "    - [<font color='green'>Multinomial Naive Bayes</font>](#4-2-2)\n",
    "    - [<font color='green'>Support Vector Machine</font>](#4-2-3)\n",
    "- [Predicting Sentiment based on trained model](#4-3)\n",
    "    - [<font color='green'>Positive vs. Negative Sentiment Count </font>](#mnbpred-fig)\n",
    "- [Predicting Sentiment Score using Textblob](#4-4)\n",
    "    - [<font color='green'>Distribution of Sentiment Score </font>](#sent-dist)\n",
    "    - [<font color='green'>Positive, Negative, and Neutral Sentiment Count </font>](#textblob-bar)\n",
    "    - [<font color='green'>Sentiment Over Time </font>](#sent-overtime)\n",
    "     \n",
    "###V. Conclusions\n",
    "- Add here later"
   ]
  },
  {
   "cell_type": "markdown",
   "metadata": {},
   "source": [
    "<a id= '4'></a>\n",
    "##IV. Sentiment Analysis\n",
    "<a id= '4-1'></a>\n",
    "###Movie Reviews Corpus\n",
    "- 2000 movie reviews classified as positive or negative \n",
    "- Trained with a Naive Bayes Classifier, accracy is about 73%\n",
    "- Two main issues:\n",
    "    - [differs in its precision and recall](http://streamhacker.com/2010/05/17/text-classification-sentiment-analysis-precision-recall/) for positive versus negative reviews. \n",
    "    <img src=\"moviereviewscorpus.png\">\n",
    "    - movie reviews can be quite lengthy with more information, whereas tweets are only 140 characters long and may have a lot more slangs and emoticons than movie reviews. This might not be the best corpus for my data  "
   ]
  },
  {
   "cell_type": "markdown",
   "metadata": {},
   "source": [
    "<a id= '4-2'></a>\n",
    "###Training and Testing Twitter Sentiment Corpus\n",
    "\n",
    "I found a [Twitter Sentiment Analysis corpus](http://thinknook.com/twitter-sentiment-analysis-training-corpus-dataset-2012-09-22/), which contains over a million tweets that are classified as positive (1) and negative (0). But, before I used this corpus on my dataset, I wanted to first test how good it was.\n",
    "<p>\n",
    "I used the same method for cleaning and preprocessing the text as mentioned in Step II above. The pertaining code can be found [here](https://github.com/deepnadevkar/twittersentimentanalysis/blob/master/twittersentiment_corpus.ipynb). I ended up using only a small fraction of this corpus (100,000 tweets) due to computational limitations. The code for making this smaller corpus can be found [here](https://github.com/deepnadevkar/twittersentimentanalysis/blob/master/makesmallercorpus.ipynb)"
   ]
  },
  {
   "cell_type": "code",
   "execution_count": 1,
   "metadata": {
    "collapsed": false
   },
   "outputs": [],
   "source": [
    "# Imports\n",
    "import pandas as pd\n",
    "from pandas import DataFrame, Series\n",
    "from pandas.tseries.resample import TimeGrouper\n",
    "from pandas.tseries.offsets import DateOffset\n",
    "import numpy as np\n",
    "import json\n",
    "import sklearn \n",
    "import seaborn as sns\n",
    "sns.set_style('whitegrid')\n",
    "import matplotlib\n",
    "import matplotlib.pyplot as plt\n",
    "%matplotlib inline"
   ]
  },
  {
   "cell_type": "code",
   "execution_count": 2,
   "metadata": {
    "collapsed": true
   },
   "outputs": [],
   "source": [
    "# note that here I used the mini corpus with 100,000 datapoints for computational reasons\n",
    "clean_corpus = pd.read_csv('clean_corpus_mini.csv')"
   ]
  },
  {
   "cell_type": "code",
   "execution_count": 3,
   "metadata": {
    "collapsed": false,
    "scrolled": true
   },
   "outputs": [
    {
     "data": {
      "text/html": [
       "<div style=\"max-height:1000px;max-width:1500px;overflow:auto;\">\n",
       "<table border=\"1\" class=\"dataframe\">\n",
       "  <thead>\n",
       "    <tr style=\"text-align: right;\">\n",
       "      <th></th>\n",
       "      <th>Sentiment</th>\n",
       "      <th>CleanText</th>\n",
       "    </tr>\n",
       "  </thead>\n",
       "  <tbody>\n",
       "    <tr>\n",
       "      <th>0</th>\n",
       "      <td> 0</td>\n",
       "      <td>                               pembsdave happening</td>\n",
       "    </tr>\n",
       "    <tr>\n",
       "      <th>1</th>\n",
       "      <td> 0</td>\n",
       "      <td>    brhodes u didnt invite hope u enough drinks us</td>\n",
       "    </tr>\n",
       "    <tr>\n",
       "      <th>2</th>\n",
       "      <td> 0</td>\n",
       "      <td> house watching tv mommy boys gone drinking jui...</td>\n",
       "    </tr>\n",
       "    <tr>\n",
       "      <th>3</th>\n",
       "      <td> 0</td>\n",
       "      <td>           germany lost another time song wasn bad</td>\n",
       "    </tr>\n",
       "    <tr>\n",
       "      <th>4</th>\n",
       "      <td> 1</td>\n",
       "      <td>                             cliff nervous bladder</td>\n",
       "    </tr>\n",
       "  </tbody>\n",
       "</table>\n",
       "</div>"
      ],
      "text/plain": [
       "   Sentiment                                          CleanText\n",
       "0          0                                pembsdave happening\n",
       "1          0     brhodes u didnt invite hope u enough drinks us\n",
       "2          0  house watching tv mommy boys gone drinking jui...\n",
       "3          0            germany lost another time song wasn bad\n",
       "4          1                              cliff nervous bladder"
      ]
     },
     "execution_count": 3,
     "metadata": {},
     "output_type": "execute_result"
    }
   ],
   "source": [
    "clean_corpus.head()"
   ]
  },
  {
   "cell_type": "code",
   "execution_count": 4,
   "metadata": {
    "collapsed": false
   },
   "outputs": [
    {
     "data": {
      "text/plain": [
       "(100000, 2)"
      ]
     },
     "execution_count": 4,
     "metadata": {},
     "output_type": "execute_result"
    }
   ],
   "source": [
    "clean_corpus.shape"
   ]
  },
  {
   "cell_type": "code",
   "execution_count": 5,
   "metadata": {
    "collapsed": true
   },
   "outputs": [],
   "source": [
    "# there may be some missing values in cleantext; drop those\n",
    "clean_corpus.dropna(inplace = True)"
   ]
  },
  {
   "cell_type": "code",
   "execution_count": 6,
   "metadata": {
    "collapsed": false
   },
   "outputs": [
    {
     "data": {
      "text/plain": [
       "(99875, 2)"
      ]
     },
     "execution_count": 6,
     "metadata": {},
     "output_type": "execute_result"
    }
   ],
   "source": [
    "clean_corpus.shape"
   ]
  },
  {
   "cell_type": "code",
   "execution_count": 7,
   "metadata": {
    "collapsed": false
   },
   "outputs": [],
   "source": [
    "# Split the data for training (90% of data) and testing (10% of data)\n",
    "\n",
    "from sklearn.cross_validation import train_test_split\n",
    "\n",
    "X_train, X_test, Y_train, Y_test = train_test_split(clean_corpus['CleanText'], clean_corpus['Sentiment'],test_size=0.1)"
   ]
  },
  {
   "cell_type": "code",
   "execution_count": 8,
   "metadata": {
    "collapsed": false
   },
   "outputs": [
    {
     "name": "stdout",
     "output_type": "stream",
     "text": [
      "(89887,) (9988,) (89887,) (9988,)\n"
     ]
    }
   ],
   "source": [
    "print (X_train.shape, X_test.shape, Y_train.shape , Y_test.shape)"
   ]
  },
  {
   "cell_type": "code",
   "execution_count": 9,
   "metadata": {
    "collapsed": true
   },
   "outputs": [],
   "source": [
    "# Create bag of words for training data\n",
    "\n",
    "from sklearn.feature_extraction.text import TfidfVectorizer"
   ]
  },
  {
   "cell_type": "code",
   "execution_count": 10,
   "metadata": {
    "collapsed": true
   },
   "outputs": [],
   "source": [
    "# Initialize the \"TfidfVectorizer\" object, which is refined sklearn's bag of words tool.  \n",
    "# It first divides the number of occurrences of each word in a document by the total number of words in the document: \n",
    "# these new features are called tf for Term Frequencies.\n",
    "# Another refinement on top of tf is to downscale weights for the less informativr words that occur in the corpus\n",
    "# than those that occur only in a smaller portion of the corpus.\n",
    "# This downscaling is called tf–idf for “Term Frequency times Inverse Document Frequency”.\n",
    "\n",
    "vectorizer = TfidfVectorizer(analyzer = \"word\",tokenizer = None,preprocessor = None, stop_words = None,\n",
    "                             max_features = 5000) "
   ]
  },
  {
   "cell_type": "code",
   "execution_count": 11,
   "metadata": {
    "collapsed": false
   },
   "outputs": [
    {
     "name": "stdout",
     "output_type": "stream",
     "text": [
      "train_data_features done\n"
     ]
    }
   ],
   "source": [
    "# fit_transform() does two functions: First, it fits the model and learns the vocabulary; second, it transforms our \n",
    "# training data into feature vectors. \n",
    "\n",
    "# The input to fit_transform should be a list of strings.\n",
    "X_train_list = X_train.tolist()\n",
    "\n",
    "# now we can use the fit_transform function\n",
    "train_data_features = vectorizer.fit_transform(X_train_list)\n",
    "\n",
    "# Numpy arrays are easy to work with, so convert the result to an array\n",
    "train_data_features = train_data_features.toarray()\n",
    "\n",
    "print ('train_data_features done')"
   ]
  },
  {
   "cell_type": "code",
   "execution_count": 12,
   "metadata": {
    "collapsed": false
   },
   "outputs": [
    {
     "name": "stdout",
     "output_type": "stream",
     "text": [
      "test_data_features done\n"
     ]
    }
   ],
   "source": [
    "# Get a bag of words for the test set, and convert to a numpy array\n",
    "\n",
    "X_test_list = X_test.tolist()\n",
    "\n",
    "# VERY IMPORTANT: On test data, we ONLY use transform... we DO NOT FIT IT! \n",
    "test_data_features = vectorizer.transform(X_test_list)\n",
    "test_data_features = test_data_features.toarray()\n",
    "\n",
    "print ('test_data_features done')"
   ]
  },
  {
   "cell_type": "code",
   "execution_count": 13,
   "metadata": {
    "collapsed": false
   },
   "outputs": [
    {
     "data": {
      "text/plain": [
       "(89887, 5000)"
      ]
     },
     "execution_count": 13,
     "metadata": {},
     "output_type": "execute_result"
    }
   ],
   "source": [
    "train_data_features.shape"
   ]
  },
  {
   "cell_type": "code",
   "execution_count": 14,
   "metadata": {
    "collapsed": false
   },
   "outputs": [
    {
     "data": {
      "text/plain": [
       "(9988, 5000)"
      ]
     },
     "execution_count": 14,
     "metadata": {},
     "output_type": "execute_result"
    }
   ],
   "source": [
    "test_data_features.shape"
   ]
  },
  {
   "cell_type": "code",
   "execution_count": 15,
   "metadata": {
    "collapsed": false
   },
   "outputs": [
    {
     "data": {
      "text/plain": [
       "0.52342811373648379"
      ]
     },
     "execution_count": 15,
     "metadata": {},
     "output_type": "execute_result"
    }
   ],
   "source": [
    "Y_test.mean() # null error rate "
   ]
  },
  {
   "cell_type": "markdown",
   "metadata": {},
   "source": [
    "<a id= '4-2-1'></a>\n",
    "###Random Forest"
   ]
  },
  {
   "cell_type": "code",
   "execution_count": 18,
   "metadata": {
    "collapsed": false
   },
   "outputs": [
    {
     "data": {
      "text/plain": [
       "'from sklearn.ensemble import RandomForestClassifier\\n\\n# Initialize a Random Forest classifier with 100 trees\\nforest = RandomForestClassifier(n_estimators = 100) \\n\\n# Fit the forest to the training set, using the bag of words as features and the sentiment labels as the response \\n# variable\\n\\n# This may take a few minutes to run\\nforest = forest.fit( train_data_features, Y_train )\\n\\ntest_pred = forest.predict(test_data_features)'"
      ]
     },
     "execution_count": 18,
     "metadata": {},
     "output_type": "execute_result"
    }
   ],
   "source": [
    "'''from sklearn.ensemble import RandomForestClassifier\n",
    "\n",
    "# Initialize a Random Forest classifier with 100 trees\n",
    "forest = RandomForestClassifier(n_estimators = 100) \n",
    "\n",
    "# Fit the forest to the training set, using the bag of words as features and the sentiment labels as the response \n",
    "# variable\n",
    "\n",
    "# This may take a few minutes to run\n",
    "forest = forest.fit( train_data_features, Y_train )\n",
    "\n",
    "test_pred = forest.predict(test_data_features)'''"
   ]
  },
  {
   "cell_type": "code",
   "execution_count": 19,
   "metadata": {
    "collapsed": false
   },
   "outputs": [
    {
     "data": {
      "text/plain": [
       "'train_score = forest.score(train_data_features, Y_train)\\ntest_score = forest.score(test_data_features, Y_test)\\n\\nprint (train_score) #0.9843\\nprint (test_score)  #0.7478'"
      ]
     },
     "execution_count": 19,
     "metadata": {},
     "output_type": "execute_result"
    }
   ],
   "source": [
    "'''train_score = forest.score(train_data_features, Y_train)\n",
    "test_score = forest.score(test_data_features, Y_test)\n",
    "\n",
    "print (train_score) #0.9843\n",
    "print (test_score)  #0.7478'''"
   ]
  },
  {
   "cell_type": "code",
   "execution_count": 20,
   "metadata": {
    "collapsed": false
   },
   "outputs": [
    {
     "data": {
      "text/plain": [
       "'# confusion matrix and a classification report\\n\\nfrom sklearn import metrics\\nfrom sklearn.cross_validation import cross_val_score\\n\\nprint (metrics.confusion_matrix(Y_test, test_pred))\\nprint (metrics.classification_report(Y_test, test_pred))'"
      ]
     },
     "execution_count": 20,
     "metadata": {},
     "output_type": "execute_result"
    }
   ],
   "source": [
    "'''# confusion matrix and a classification report\n",
    "\n",
    "from sklearn import metrics\n",
    "from sklearn.cross_validation import cross_val_score\n",
    "\n",
    "print (metrics.confusion_matrix(Y_test, test_pred))\n",
    "print (metrics.classification_report(Y_test, test_pred))'''"
   ]
  },
  {
   "cell_type": "markdown",
   "metadata": {},
   "source": [
    "<a id= '4-2-2'></a>\n",
    "### Multinomial Naive Bayes"
   ]
  },
  {
   "cell_type": "code",
   "execution_count": 21,
   "metadata": {
    "collapsed": true
   },
   "outputs": [],
   "source": [
    "from sklearn.naive_bayes import MultinomialNB\n",
    "\n",
    "# Initialize a Multinomial NB classifier \n",
    "mnb = MultinomialNB() \n",
    "\n",
    "# Fit the MNB classifier to the training set, using the bag of words as features and the sentiment labels as the \n",
    "# response variable\n",
    "\n",
    "# This may take a few minutes to run\n",
    "mnb = mnb.fit( train_data_features, Y_train )\n",
    "\n",
    "mnb_test_pred = mnb.predict(test_data_features)"
   ]
  },
  {
   "cell_type": "code",
   "execution_count": 22,
   "metadata": {
    "collapsed": false
   },
   "outputs": [
    {
     "name": "stdout",
     "output_type": "stream",
     "text": [
      "0.753804565479\n"
     ]
    }
   ],
   "source": [
    "# MNB test accuracy \n",
    "\n",
    "mnb_test_score = mnb.score(test_data_features, Y_test)\n",
    "\n",
    "print (mnb_test_score)"
   ]
  },
  {
   "cell_type": "code",
   "execution_count": 23,
   "metadata": {
    "collapsed": false
   },
   "outputs": [
    {
     "name": "stdout",
     "output_type": "stream",
     "text": [
      "[[3297 1463]\n",
      " [ 996 4232]]\n",
      "             precision    recall  f1-score   support\n",
      "\n",
      "          0       0.77      0.69      0.73      4760\n",
      "          1       0.74      0.81      0.77      5228\n",
      "\n",
      "avg / total       0.75      0.75      0.75      9988\n",
      "\n"
     ]
    }
   ],
   "source": [
    "from sklearn import metrics\n",
    "from sklearn.cross_validation import cross_val_score\n",
    "\n",
    "print (metrics.confusion_matrix(Y_test, mnb_test_pred))\n",
    "print (metrics.classification_report(Y_test, mnb_test_pred))"
   ]
  },
  {
   "cell_type": "markdown",
   "metadata": {},
   "source": [
    "<a id= '4-2-3'></a>\n",
    "###Support Vector Machine"
   ]
  },
  {
   "cell_type": "code",
   "execution_count": 24,
   "metadata": {
    "collapsed": true
   },
   "outputs": [],
   "source": [
    "from sklearn.linear_model import SGDClassifier\n",
    "\n",
    "# Initialize a SVM classifier \n",
    "svm = SGDClassifier()\n",
    "\n",
    "# Fit the SVM classifier to the training set, using the bag of words as features and the sentiment labels as the \n",
    "# response variable\n",
    "\n",
    "# This may take even longer to run than the MNB \n",
    "svm = svm.fit( train_data_features, Y_train )\n",
    "\n",
    "svm_test_pred = svm.predict(test_data_features)"
   ]
  },
  {
   "cell_type": "code",
   "execution_count": 25,
   "metadata": {
    "collapsed": false
   },
   "outputs": [
    {
     "name": "stdout",
     "output_type": "stream",
     "text": [
      "0.752803364037\n"
     ]
    }
   ],
   "source": [
    "# SVM test accuracy \n",
    "\n",
    "svm_test_score = svm.score(test_data_features, Y_test)\n",
    "\n",
    "print (svm_test_score)"
   ]
  },
  {
   "cell_type": "code",
   "execution_count": 26,
   "metadata": {
    "collapsed": false
   },
   "outputs": [
    {
     "name": "stdout",
     "output_type": "stream",
     "text": [
      "[[3064 1696]\n",
      " [ 773 4455]]\n",
      "             precision    recall  f1-score   support\n",
      "\n",
      "          0       0.80      0.64      0.71      4760\n",
      "          1       0.72      0.85      0.78      5228\n",
      "\n",
      "avg / total       0.76      0.75      0.75      9988\n",
      "\n"
     ]
    }
   ],
   "source": [
    "print (metrics.confusion_matrix(Y_test, svm_test_pred))\n",
    "print (metrics.classification_report(Y_test, svm_test_pred))"
   ]
  },
  {
   "cell_type": "markdown",
   "metadata": {},
   "source": [
    "<a id= '4-3'></a>\n",
    "###Predicting Sentiment based on trained model\n",
    "All three classifier's had around 75% accuracy score. However, since the MNB classifier had the most balanced precision and recall scores for positive and negative reviews, I used the MNB classifier to predict sentiment scores on my tweets. "
   ]
  },
  {
   "cell_type": "code",
   "execution_count": 27,
   "metadata": {
    "collapsed": true
   },
   "outputs": [],
   "source": [
    "clean_tweets = pd.read_csv('rockets_cleantext.csv', header = False)"
   ]
  },
  {
   "cell_type": "code",
   "execution_count": 28,
   "metadata": {
    "collapsed": false
   },
   "outputs": [
    {
     "data": {
      "text/plain": [
       "(105783, 1)"
      ]
     },
     "execution_count": 28,
     "metadata": {},
     "output_type": "execute_result"
    }
   ],
   "source": [
    "clean_tweets.shape"
   ]
  },
  {
   "cell_type": "code",
   "execution_count": 29,
   "metadata": {
    "collapsed": false
   },
   "outputs": [
    {
     "data": {
      "text/html": [
       "<div style=\"max-height:1000px;max-width:1500px;overflow:auto;\">\n",
       "<table border=\"1\" class=\"dataframe\">\n",
       "  <thead>\n",
       "    <tr style=\"text-align: right;\">\n",
       "      <th></th>\n",
       "      <th>CleanText</th>\n",
       "    </tr>\n",
       "  </thead>\n",
       "  <tbody>\n",
       "    <tr>\n",
       "      <th>0</th>\n",
       "      <td> getting ready game rockets vs warriors warrior...</td>\n",
       "    </tr>\n",
       "    <tr>\n",
       "      <th>1</th>\n",
       "      <td> iamc mart lil b curse james harden curtains ro...</td>\n",
       "    </tr>\n",
       "    <tr>\n",
       "      <th>2</th>\n",
       "      <td>               tonight free pick houston rockets u</td>\n",
       "    </tr>\n",
       "    <tr>\n",
       "      <th>3</th>\n",
       "      <td>                                    let go rockets</td>\n",
       "    </tr>\n",
       "    <tr>\n",
       "      <th>4</th>\n",
       "      <td>                           rockets boutta win game</td>\n",
       "    </tr>\n",
       "  </tbody>\n",
       "</table>\n",
       "</div>"
      ],
      "text/plain": [
       "                                           CleanText\n",
       "0  getting ready game rockets vs warriors warrior...\n",
       "1  iamc mart lil b curse james harden curtains ro...\n",
       "2                tonight free pick houston rockets u\n",
       "3                                     let go rockets\n",
       "4                            rockets boutta win game"
      ]
     },
     "execution_count": 29,
     "metadata": {},
     "output_type": "execute_result"
    }
   ],
   "source": [
    "clean_tweets.head()"
   ]
  },
  {
   "cell_type": "code",
   "execution_count": 30,
   "metadata": {
    "collapsed": true
   },
   "outputs": [],
   "source": [
    "# there may be some missing values in in rockets_data_features; drop those\n",
    "clean_tweets.dropna(inplace = True)"
   ]
  },
  {
   "cell_type": "code",
   "execution_count": 31,
   "metadata": {
    "collapsed": false
   },
   "outputs": [
    {
     "data": {
      "text/plain": [
       "(105783, 1)"
      ]
     },
     "execution_count": 31,
     "metadata": {},
     "output_type": "execute_result"
    }
   ],
   "source": [
    "clean_tweets.shape"
   ]
  },
  {
   "cell_type": "code",
   "execution_count": 32,
   "metadata": {
    "collapsed": true
   },
   "outputs": [],
   "source": [
    "# The input to transform should be a list of strings.\n",
    "rockets_list = clean_tweets['CleanText'].values.tolist()"
   ]
  },
  {
   "cell_type": "code",
   "execution_count": 33,
   "metadata": {
    "collapsed": false
   },
   "outputs": [
    {
     "data": {
      "text/plain": [
       "['getting ready game rockets vs warriors warriors spashbros nba basketball besureinc co glrexsuchm',\n",
       " 'iamc mart lil b curse james harden curtains rockets',\n",
       " 'tonight free pick houston rockets u',\n",
       " 'let go rockets',\n",
       " 'rockets boutta win game']"
      ]
     },
     "execution_count": 33,
     "metadata": {},
     "output_type": "execute_result"
    }
   ],
   "source": [
    "rockets_list[0:5]"
   ]
  },
  {
   "cell_type": "code",
   "execution_count": 34,
   "metadata": {
    "collapsed": true
   },
   "outputs": [],
   "source": [
    "# get the bag of words on the rockets tweets\n",
    "rockets_data_features = vectorizer.transform(rockets_list)"
   ]
  },
  {
   "cell_type": "code",
   "execution_count": 35,
   "metadata": {
    "collapsed": false
   },
   "outputs": [
    {
     "data": {
      "text/plain": [
       "(105783, 5000)"
      ]
     },
     "execution_count": 35,
     "metadata": {},
     "output_type": "execute_result"
    }
   ],
   "source": [
    "rockets_data_features.shape"
   ]
  },
  {
   "cell_type": "code",
   "execution_count": 36,
   "metadata": {
    "collapsed": true
   },
   "outputs": [],
   "source": [
    "rockets_data_features = rockets_data_features.toarray()"
   ]
  },
  {
   "cell_type": "code",
   "execution_count": 37,
   "metadata": {
    "collapsed": true
   },
   "outputs": [],
   "source": [
    "# now run the multinomial NB model to predict sentiment values for the rockets\n",
    "\n",
    "mnb_rockets_pred = mnb.predict(rockets_data_features)"
   ]
  },
  {
   "cell_type": "code",
   "execution_count": 38,
   "metadata": {
    "collapsed": false
   },
   "outputs": [
    {
     "data": {
      "text/plain": [
       "array([1, 0, 1, 1, 1])"
      ]
     },
     "execution_count": 38,
     "metadata": {},
     "output_type": "execute_result"
    }
   ],
   "source": [
    "mnb_rockets_pred[0:5]"
   ]
  },
  {
   "cell_type": "code",
   "execution_count": 39,
   "metadata": {
    "collapsed": true
   },
   "outputs": [],
   "source": [
    "clean_tweets['Sentiment'] = mnb_rockets_pred"
   ]
  },
  {
   "cell_type": "code",
   "execution_count": 40,
   "metadata": {
    "collapsed": false
   },
   "outputs": [
    {
     "data": {
      "text/html": [
       "<div style=\"max-height:1000px;max-width:1500px;overflow:auto;\">\n",
       "<table border=\"1\" class=\"dataframe\">\n",
       "  <thead>\n",
       "    <tr style=\"text-align: right;\">\n",
       "      <th></th>\n",
       "      <th>CleanText</th>\n",
       "      <th>Sentiment</th>\n",
       "    </tr>\n",
       "  </thead>\n",
       "  <tbody>\n",
       "    <tr>\n",
       "      <th>0 </th>\n",
       "      <td> getting ready game rockets vs warriors warrior...</td>\n",
       "      <td> 1</td>\n",
       "    </tr>\n",
       "    <tr>\n",
       "      <th>1 </th>\n",
       "      <td> iamc mart lil b curse james harden curtains ro...</td>\n",
       "      <td> 0</td>\n",
       "    </tr>\n",
       "    <tr>\n",
       "      <th>2 </th>\n",
       "      <td>               tonight free pick houston rockets u</td>\n",
       "      <td> 1</td>\n",
       "    </tr>\n",
       "    <tr>\n",
       "      <th>3 </th>\n",
       "      <td>                                    let go rockets</td>\n",
       "      <td> 1</td>\n",
       "    </tr>\n",
       "    <tr>\n",
       "      <th>4 </th>\n",
       "      <td>                           rockets boutta win game</td>\n",
       "      <td> 1</td>\n",
       "    </tr>\n",
       "    <tr>\n",
       "      <th>5 </th>\n",
       "      <td> complexmag rockets fans begging lil b put base...</td>\n",
       "      <td> 1</td>\n",
       "    </tr>\n",
       "    <tr>\n",
       "      <th>6 </th>\n",
       "      <td>                    lildelvin rockets take l today</td>\n",
       "      <td> 1</td>\n",
       "    </tr>\n",
       "    <tr>\n",
       "      <th>7 </th>\n",
       "      <td> sportscenter rockets warriors meet game et esp...</td>\n",
       "      <td> 1</td>\n",
       "    </tr>\n",
       "    <tr>\n",
       "      <th>8 </th>\n",
       "      <td>                         nah cuh chill co qqrlnevt</td>\n",
       "      <td> 1</td>\n",
       "    </tr>\n",
       "    <tr>\n",
       "      <th>9 </th>\n",
       "      <td> rjthamacrj rockets play warriors hope kevin mc...</td>\n",
       "      <td> 1</td>\n",
       "    </tr>\n",
       "    <tr>\n",
       "      <th>10</th>\n",
       "      <td> sportscenter draymond green enters arena game ...</td>\n",
       "      <td> 1</td>\n",
       "    </tr>\n",
       "    <tr>\n",
       "      <th>11</th>\n",
       "      <td>                                  warriors rockets</td>\n",
       "      <td> 1</td>\n",
       "    </tr>\n",
       "    <tr>\n",
       "      <th>12</th>\n",
       "      <td>                  rjack lock warriors rockets game</td>\n",
       "      <td> 0</td>\n",
       "    </tr>\n",
       "    <tr>\n",
       "      <th>13</th>\n",
       "      <td> sportscenter rockets warriors meet game et esp...</td>\n",
       "      <td> 1</td>\n",
       "    </tr>\n",
       "    <tr>\n",
       "      <th>14</th>\n",
       "      <td> espnstatsinfo rockets howard lineup postseason...</td>\n",
       "      <td> 1</td>\n",
       "    </tr>\n",
       "  </tbody>\n",
       "</table>\n",
       "</div>"
      ],
      "text/plain": [
       "                                            CleanText  Sentiment\n",
       "0   getting ready game rockets vs warriors warrior...          1\n",
       "1   iamc mart lil b curse james harden curtains ro...          0\n",
       "2                 tonight free pick houston rockets u          1\n",
       "3                                      let go rockets          1\n",
       "4                             rockets boutta win game          1\n",
       "5   complexmag rockets fans begging lil b put base...          1\n",
       "6                      lildelvin rockets take l today          1\n",
       "7   sportscenter rockets warriors meet game et esp...          1\n",
       "8                           nah cuh chill co qqrlnevt          1\n",
       "9   rjthamacrj rockets play warriors hope kevin mc...          1\n",
       "10  sportscenter draymond green enters arena game ...          1\n",
       "11                                   warriors rockets          1\n",
       "12                   rjack lock warriors rockets game          0\n",
       "13  sportscenter rockets warriors meet game et esp...          1\n",
       "14  espnstatsinfo rockets howard lineup postseason...          1"
      ]
     },
     "execution_count": 40,
     "metadata": {},
     "output_type": "execute_result"
    }
   ],
   "source": [
    "clean_tweets[0:15]"
   ]
  },
  {
   "cell_type": "code",
   "execution_count": 41,
   "metadata": {
    "collapsed": false
   },
   "outputs": [],
   "source": [
    "pos = clean_tweets[clean_tweets['Sentiment'] == 1]"
   ]
  },
  {
   "cell_type": "code",
   "execution_count": 42,
   "metadata": {
    "collapsed": false
   },
   "outputs": [
    {
     "data": {
      "text/plain": [
       "(65284, 2)"
      ]
     },
     "execution_count": 42,
     "metadata": {},
     "output_type": "execute_result"
    }
   ],
   "source": [
    "pos.shape"
   ]
  },
  {
   "cell_type": "code",
   "execution_count": 43,
   "metadata": {
    "collapsed": true
   },
   "outputs": [],
   "source": [
    "neg = clean_tweets[clean_tweets['Sentiment'] == 0]"
   ]
  },
  {
   "cell_type": "code",
   "execution_count": 44,
   "metadata": {
    "collapsed": false
   },
   "outputs": [
    {
     "data": {
      "text/plain": [
       "(40499, 2)"
      ]
     },
     "execution_count": 44,
     "metadata": {},
     "output_type": "execute_result"
    }
   ],
   "source": [
    "neg.shape"
   ]
  },
  {
   "cell_type": "code",
   "execution_count": 45,
   "metadata": {
    "collapsed": false
   },
   "outputs": [],
   "source": [
    "clean_tweets.to_csv('twittercorpus_sentiment.csv',index = False)"
   ]
  },
  {
   "cell_type": "code",
   "execution_count": 46,
   "metadata": {
    "collapsed": false,
    "scrolled": true
   },
   "outputs": [
    {
     "data": {
      "text/html": [
       "<div style=\"max-height:1000px;max-width:1500px;overflow:auto;\">\n",
       "<table border=\"1\" class=\"dataframe\">\n",
       "  <thead>\n",
       "    <tr style=\"text-align: right;\">\n",
       "      <th></th>\n",
       "      <th>CleanText</th>\n",
       "      <th>Sentiment</th>\n",
       "    </tr>\n",
       "  </thead>\n",
       "  <tbody>\n",
       "    <tr>\n",
       "      <th>0</th>\n",
       "      <td> getting ready game rockets vs warriors warrior...</td>\n",
       "      <td> 1</td>\n",
       "    </tr>\n",
       "    <tr>\n",
       "      <th>2</th>\n",
       "      <td>               tonight free pick houston rockets u</td>\n",
       "      <td> 1</td>\n",
       "    </tr>\n",
       "    <tr>\n",
       "      <th>3</th>\n",
       "      <td>                                    let go rockets</td>\n",
       "      <td> 1</td>\n",
       "    </tr>\n",
       "    <tr>\n",
       "      <th>4</th>\n",
       "      <td>                           rockets boutta win game</td>\n",
       "      <td> 1</td>\n",
       "    </tr>\n",
       "    <tr>\n",
       "      <th>5</th>\n",
       "      <td> complexmag rockets fans begging lil b put base...</td>\n",
       "      <td> 1</td>\n",
       "    </tr>\n",
       "  </tbody>\n",
       "</table>\n",
       "</div>"
      ],
      "text/plain": [
       "                                           CleanText  Sentiment\n",
       "0  getting ready game rockets vs warriors warrior...          1\n",
       "2                tonight free pick houston rockets u          1\n",
       "3                                     let go rockets          1\n",
       "4                            rockets boutta win game          1\n",
       "5  complexmag rockets fans begging lil b put base...          1"
      ]
     },
     "execution_count": 46,
     "metadata": {},
     "output_type": "execute_result"
    }
   ],
   "source": [
    "pos.head()"
   ]
  },
  {
   "cell_type": "code",
   "execution_count": 47,
   "metadata": {
    "collapsed": false
   },
   "outputs": [],
   "source": [
    "clean_tweets['Sentiment Category'] = clean_tweets.Sentiment.map({0: \"Negative\", 1: \"Positive\"})"
   ]
  },
  {
   "cell_type": "markdown",
   "metadata": {},
   "source": [
    "<a id= 'mnbpred-fig'></a>"
   ]
  },
  {
   "cell_type": "markdown",
   "metadata": {},
   "source": [
    "<a id= 'mnb-pred'></a>"
   ]
  },
  {
   "cell_type": "code",
   "execution_count": 48,
   "metadata": {
    "collapsed": false,
    "scrolled": false
   },
   "outputs": [
    {
     "data": {
      "text/plain": [
       "<matplotlib.text.Text at 0x10cf0f390>"
      ]
     },
     "execution_count": 48,
     "metadata": {},
     "output_type": "execute_result"
    },
    {
     "data": {
      "image/png": "[encoded data removed]",
      "text/plain": [
       "<matplotlib.figure.Figure at 0x10c9f3320>"
      ]
     },
     "metadata": {},
     "output_type": "display_data"
    }
   ],
   "source": [
    "matplotlib.rc('xtick', labelsize=14) \n",
    "matplotlib.rc('ytick', labelsize=14)\n",
    "sns.factorplot('Sentiment Category',data=clean_tweets,palette='Set1', size = 7, aspect = 1)\n",
    "\n",
    "plt.xlabel('Sentiment Category', fontsize = 18)\n",
    "plt.ylabel('Frequency', fontsize = 18)"
   ]
  },
  {
   "cell_type": "markdown",
   "metadata": {},
   "source": [
    "<a id= '4-4'></a>\n",
    "###Sentiment Analysis using Textblob "
   ]
  },
  {
   "cell_type": "code",
   "execution_count": 49,
   "metadata": {
    "collapsed": true
   },
   "outputs": [],
   "source": [
    "from textblob import TextBlob, Word"
   ]
  },
  {
   "cell_type": "code",
   "execution_count": 50,
   "metadata": {
    "collapsed": false
   },
   "outputs": [],
   "source": [
    "sentiments = [TextBlob(tweet).sentiment.polarity for tweet in clean_tweets['CleanText']]"
   ]
  },
  {
   "cell_type": "code",
   "execution_count": 51,
   "metadata": {
    "collapsed": false
   },
   "outputs": [
    {
     "name": "stdout",
     "output_type": "stream",
     "text": [
      "0     getting ready game rockets vs warriors warrior...\n",
      "1     iamc mart lil b curse james harden curtains ro...\n",
      "2                   tonight free pick houston rockets u\n",
      "3                                        let go rockets\n",
      "4                               rockets boutta win game\n",
      "5     complexmag rockets fans begging lil b put base...\n",
      "6                        lildelvin rockets take l today\n",
      "7     sportscenter rockets warriors meet game et esp...\n",
      "8                             nah cuh chill co qqrlnevt\n",
      "9     rjthamacrj rockets play warriors hope kevin mc...\n",
      "10    sportscenter draymond green enters arena game ...\n",
      "11                                     warriors rockets\n",
      "12                     rjack lock warriors rockets game\n",
      "13    sportscenter rockets warriors meet game et esp...\n",
      "14    espnstatsinfo rockets howard lineup postseason...\n",
      "Name: CleanText, dtype: object [-0.1, 0.0, 0.4, 0.0, 0.2, 0.0, 0.0, -0.1, 0.0, -0.4, -0.12500000000000003, 0.0, -0.4, -0.1, 0.0]\n"
     ]
    }
   ],
   "source": [
    "print (clean_tweets['CleanText'][0:15], sentiments[0:15])"
   ]
  },
  {
   "cell_type": "code",
   "execution_count": 52,
   "metadata": {
    "collapsed": false
   },
   "outputs": [
    {
     "name": "stdout",
     "output_type": "stream",
     "text": [
      "0.0544129545809\n"
     ]
    }
   ],
   "source": [
    "avg_sentiment = np.sum(sentiments)/len(sentiments)\n",
    "print (avg_sentiment)"
   ]
  },
  {
   "cell_type": "markdown",
   "metadata": {},
   "source": [
    "<a id= 'sent-dist'></a>"
   ]
  },
  {
   "cell_type": "code",
   "execution_count": 64,
   "metadata": {
    "collapsed": false
   },
   "outputs": [
    {
     "data": {
      "image/png": "[encoded data removed]",
      "text/plain": [
       "<matplotlib.figure.Figure at 0x2fa154710>"
      ]
     },
     "metadata": {},
     "output_type": "display_data"
    }
   ],
   "source": [
    "sns.set_style('darkgrid')\n",
    "plt.figure(num=None, figsize=(10, 7), dpi=300)\n",
    "ax = plt.subplot()\n",
    "for item in ([ax.title, ax.xaxis.label, ax.yaxis.label] +\n",
    "             ax.get_xticklabels() + ax.get_yticklabels()):\n",
    "    item.set_fontsize(18)\n",
    "sns.distplot(sentiments)\n",
    "plt.title('Distribution of Sentiment', fontsize = 18)\n",
    "plt.xlabel('Sentiment (-1 to 1)')\n",
    "plt.ylabel('Frequency')\n",
    "plt.show()"
   ]
  },
  {
   "cell_type": "code",
   "execution_count": 54,
   "metadata": {
    "collapsed": true
   },
   "outputs": [],
   "source": [
    "# Loop through all of the sentiments and put them into the appropriate group\n",
    "pos_neg_neutral = []\n",
    "for sentiment in sentiments:\n",
    "    if sentiment <= -0.25:\n",
    "        pos_neg_neutral.append('Negative')\n",
    "    elif sentiment >= 0.25:\n",
    "        pos_neg_neutral.append('Positive')\n",
    "    elif sentiment > -0.25 and sentiment < 0.25:\n",
    "        pos_neg_neutral.append('Neutral')\n",
    "clean_tweets['Sentiment Category'] = np.array(pos_neg_neutral)"
   ]
  },
  {
   "cell_type": "code",
   "execution_count": 55,
   "metadata": {
    "collapsed": false
   },
   "outputs": [
    {
     "data": {
      "text/html": [
       "<div style=\"max-height:1000px;max-width:1500px;overflow:auto;\">\n",
       "<table border=\"1\" class=\"dataframe\">\n",
       "  <thead>\n",
       "    <tr style=\"text-align: right;\">\n",
       "      <th></th>\n",
       "      <th>CleanText</th>\n",
       "      <th>Sentiment</th>\n",
       "      <th>Sentiment Category</th>\n",
       "    </tr>\n",
       "  </thead>\n",
       "  <tbody>\n",
       "    <tr>\n",
       "      <th>0</th>\n",
       "      <td> getting ready game rockets vs warriors warrior...</td>\n",
       "      <td> 1</td>\n",
       "      <td>  Neutral</td>\n",
       "    </tr>\n",
       "    <tr>\n",
       "      <th>1</th>\n",
       "      <td> iamc mart lil b curse james harden curtains ro...</td>\n",
       "      <td> 0</td>\n",
       "      <td>  Neutral</td>\n",
       "    </tr>\n",
       "    <tr>\n",
       "      <th>2</th>\n",
       "      <td>               tonight free pick houston rockets u</td>\n",
       "      <td> 1</td>\n",
       "      <td> Positive</td>\n",
       "    </tr>\n",
       "    <tr>\n",
       "      <th>3</th>\n",
       "      <td>                                    let go rockets</td>\n",
       "      <td> 1</td>\n",
       "      <td>  Neutral</td>\n",
       "    </tr>\n",
       "    <tr>\n",
       "      <th>4</th>\n",
       "      <td>                           rockets boutta win game</td>\n",
       "      <td> 1</td>\n",
       "      <td>  Neutral</td>\n",
       "    </tr>\n",
       "  </tbody>\n",
       "</table>\n",
       "</div>"
      ],
      "text/plain": [
       "                                           CleanText  Sentiment  \\\n",
       "0  getting ready game rockets vs warriors warrior...          1   \n",
       "1  iamc mart lil b curse james harden curtains ro...          0   \n",
       "2                tonight free pick houston rockets u          1   \n",
       "3                                     let go rockets          1   \n",
       "4                            rockets boutta win game          1   \n",
       "\n",
       "  Sentiment Category  \n",
       "0            Neutral  \n",
       "1            Neutral  \n",
       "2           Positive  \n",
       "3            Neutral  \n",
       "4            Neutral  "
      ]
     },
     "execution_count": 55,
     "metadata": {},
     "output_type": "execute_result"
    }
   ],
   "source": [
    "clean_tweets[0:5]"
   ]
  },
  {
   "cell_type": "markdown",
   "metadata": {},
   "source": [
    "<a id= 'textblob-bar'></a>"
   ]
  },
  {
   "cell_type": "code",
   "execution_count": 56,
   "metadata": {
    "collapsed": false
   },
   "outputs": [
    {
     "data": {
      "text/plain": [
       "<matplotlib.text.Text at 0x2fb49f780>"
      ]
     },
     "execution_count": 56,
     "metadata": {},
     "output_type": "execute_result"
    },
    {
     "data": {
      "image/png": "[encoded data removed]",
      "text/plain": [
       "<matplotlib.figure.Figure at 0x2fb49d198>"
      ]
     },
     "metadata": {},
     "output_type": "display_data"
    }
   ],
   "source": [
    "sns.set_style('darkgrid')\n",
    "matplotlib.rc('xtick', labelsize=14) \n",
    "matplotlib.rc('ytick', labelsize=14)\n",
    "sns.factorplot('Sentiment Category',data=clean_tweets, size = 7, aspect = 1, palette = 'Set1')\n",
    "plt.title('Positive, Negative, and Neutral Sentiment', fontsize = 18)\n",
    "plt.xlabel('Sentiment Category', fontsize = 18)\n",
    "plt.ylabel('Frequency', fontsize = 18)"
   ]
  },
  {
   "cell_type": "code",
   "execution_count": 57,
   "metadata": {
    "collapsed": true
   },
   "outputs": [],
   "source": [
    "clean_tweets['Sentiment'] = sentiments"
   ]
  },
  {
   "cell_type": "code",
   "execution_count": 58,
   "metadata": {
    "collapsed": false,
    "scrolled": true
   },
   "outputs": [
    {
     "data": {
      "text/html": [
       "<div style=\"max-height:1000px;max-width:1500px;overflow:auto;\">\n",
       "<table border=\"1\" class=\"dataframe\">\n",
       "  <thead>\n",
       "    <tr style=\"text-align: right;\">\n",
       "      <th></th>\n",
       "      <th>CleanText</th>\n",
       "      <th>Sentiment</th>\n",
       "      <th>Sentiment Category</th>\n",
       "    </tr>\n",
       "  </thead>\n",
       "  <tbody>\n",
       "    <tr>\n",
       "      <th>2015-05-21 07:45:44-05:00</th>\n",
       "      <td> getting ready game rockets vs warriors warrior...</td>\n",
       "      <td>-0.1</td>\n",
       "      <td>  Neutral</td>\n",
       "    </tr>\n",
       "    <tr>\n",
       "      <th>2015-05-21 07:45:45-05:00</th>\n",
       "      <td> iamc mart lil b curse james harden curtains ro...</td>\n",
       "      <td> 0.0</td>\n",
       "      <td>  Neutral</td>\n",
       "    </tr>\n",
       "    <tr>\n",
       "      <th>2015-05-21 07:45:46-05:00</th>\n",
       "      <td>               tonight free pick houston rockets u</td>\n",
       "      <td> 0.4</td>\n",
       "      <td> Positive</td>\n",
       "    </tr>\n",
       "    <tr>\n",
       "      <th>2015-05-21 07:45:46-05:00</th>\n",
       "      <td>                                    let go rockets</td>\n",
       "      <td> 0.0</td>\n",
       "      <td>  Neutral</td>\n",
       "    </tr>\n",
       "    <tr>\n",
       "      <th>2015-05-21 07:45:46-05:00</th>\n",
       "      <td>                           rockets boutta win game</td>\n",
       "      <td> 0.2</td>\n",
       "      <td>  Neutral</td>\n",
       "    </tr>\n",
       "  </tbody>\n",
       "</table>\n",
       "</div>"
      ],
      "text/plain": [
       "                                                                   CleanText  \\\n",
       "2015-05-21 07:45:44-05:00  getting ready game rockets vs warriors warrior...   \n",
       "2015-05-21 07:45:45-05:00  iamc mart lil b curse james harden curtains ro...   \n",
       "2015-05-21 07:45:46-05:00                tonight free pick houston rockets u   \n",
       "2015-05-21 07:45:46-05:00                                     let go rockets   \n",
       "2015-05-21 07:45:46-05:00                            rockets boutta win game   \n",
       "\n",
       "                           Sentiment Sentiment Category  \n",
       "2015-05-21 07:45:44-05:00       -0.1            Neutral  \n",
       "2015-05-21 07:45:45-05:00        0.0            Neutral  \n",
       "2015-05-21 07:45:46-05:00        0.4           Positive  \n",
       "2015-05-21 07:45:46-05:00        0.0            Neutral  \n",
       "2015-05-21 07:45:46-05:00        0.2            Neutral  "
      ]
     },
     "execution_count": 58,
     "metadata": {},
     "output_type": "execute_result"
    }
   ],
   "source": [
    "path = 'rockets.json'\n",
    "record = [json.loads(line) for line in open(path)]\n",
    "rockets = DataFrame(record)\n",
    "\n",
    "created_at = pd.read_csv('rockets_datetime.csv', header = 0) \n",
    "rockets['datetime'] = created_at\n",
    "rockets.drop(['created_at','_id'], inplace=True, axis=1)\n",
    "rockets['datetime'] = pd.to_datetime(pd.Series(rockets['datetime']))\n",
    "rockets.set_index('datetime', drop=False, inplace=True)\n",
    "rockets.index = rockets.index.tz_localize('UTC').tz_convert('EST')\n",
    "rockets.index = rockets.index - DateOffset(hours = 12)\n",
    "clean_tweets.index = rockets.index\n",
    "clean_tweets.head()"
   ]
  },
  {
   "cell_type": "code",
   "execution_count": 59,
   "metadata": {
    "collapsed": true
   },
   "outputs": [],
   "source": [
    "sentiment1m = clean_tweets['Sentiment'].resample('1t', how='mean')\n",
    "#sentiment5m = clean_tweets['Sentiment'].resample('5t', how='mean')\n",
    "#sentiment20m = clean_tweets['Sentiment'].resample('20t', how='mean')"
   ]
  },
  {
   "cell_type": "markdown",
   "metadata": {},
   "source": [
    "<a id= 'sent-overtime'></a>"
   ]
  },
  {
   "cell_type": "code",
   "execution_count": 60,
   "metadata": {
    "collapsed": false,
    "scrolled": false
   },
   "outputs": [
    {
     "data": {
      "image/png": "[encoded data removed]",
      "text/plain": [
       "<matplotlib.figure.Figure at 0x2faa7c828>"
      ]
     },
     "metadata": {},
     "output_type": "display_data"
    }
   ],
   "source": [
    "fig, ax = plt.subplots()\n",
    "sentiment1m.plot(legend=False,figsize=(10,7), color = 'red')\n",
    "#sentiment5m.plot(legend=False,figsize=(15,10), color = 'blue')\n",
    "#sentiment20m.plot(legend=False,figsize=(15,10), color = 'green')\n",
    "plt.setp(ax.get_xticklabels(),fontsize=14,family='sans-serif')\n",
    "plt.setp(ax.get_yticklabels(),fontsize=14,family='sans-serif')\n",
    "plt.xlabel('Time',fontsize=20,family='sans-serif')\n",
    "plt.ylabel('Tweet Sentiment',fontsize=20,family='sans-serif')\n",
    "# Now add the start and end markers\n",
    "plt.axvline(x='2015-05-21 08:00:00-05:00', linewidth=4, color='grey')\n",
    "plt.axvline(x='2015-05-21 08:40:00-05:00', linewidth=4, color='grey')\n",
    "plt.axvline(x='2015-05-21 09:20:00-05:00', linewidth=4, color='grey')\n",
    "plt.axvline(x='2015-05-21 10:00:00-05:00', linewidth=4, color='grey')\n",
    "plt.axvline(x='2015-05-21 10:40:00-05:00', linewidth=4, color='grey')\n",
    "plt.grid(False)\n",
    "plt.show()"
   ]
  },
  {
   "cell_type": "code",
   "execution_count": 61,
   "metadata": {
    "collapsed": false,
    "scrolled": true
   },
   "outputs": [
    {
     "name": "stdout",
     "output_type": "stream",
     "text": [
      "-1.0\n",
      "1.0\n"
     ]
    }
   ],
   "source": [
    "print (clean_tweets['Sentiment'].min())\n",
    "print (clean_tweets['Sentiment'].max())"
   ]
  },
  {
   "cell_type": "code",
   "execution_count": 62,
   "metadata": {
    "collapsed": false
   },
   "outputs": [
    {
     "name": "stdout",
     "output_type": "stream",
     "text": [
      "bigtrain ya boring watching rockets blowing teams\n"
     ]
    }
   ],
   "source": [
    "print (clean_tweets[clean_tweets['Sentiment']==clean_tweets['Sentiment'].min()]['CleanText'].values[0])"
   ]
  },
  {
   "cell_type": "code",
   "execution_count": 63,
   "metadata": {
    "collapsed": false
   },
   "outputs": [
    {
     "name": "stdout",
     "output_type": "stream",
     "text": [
      "best chef world dynamite bounds flavor town mayor co xwwixgxgbm\n"
     ]
    }
   ],
   "source": [
    "print (clean_tweets[clean_tweets['Sentiment']==clean_tweets['Sentiment'].max()]['CleanText'].values[0])"
   ]
  },
  {
   "cell_type": "markdown",
   "metadata": {},
   "source": [
    "[Scroll to top](#top)"
   ]
  },
  {
   "cell_type": "code",
   "execution_count": null,
   "metadata": {
    "collapsed": true
   },
   "outputs": [],
   "source": []
  }
 ],
 "metadata": {
  "kernelspec": {
   "display_name": "Python 3",
   "language": "python",
   "name": "python3"
  },
  "language_info": {
   "codemirror_mode": {
    "name": "ipython",
    "version": 3
   },
   "file_extension": ".py",
   "mimetype": "text/x-python",
   "name": "python",
   "nbconvert_exporter": "python",
   "pygments_lexer": "ipython3",
   "version": "3.4.3"
  }
 },
 "nbformat": 4,
 "nbformat_minor": 0
}
